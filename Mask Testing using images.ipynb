{
 "cells": [
  {
   "cell_type": "code",
   "execution_count": 1,
   "metadata": {},
   "outputs": [],
   "source": [
    "from tensorflow.keras.applications.mobilenet_v2 import preprocess_input\n",
    "from tensorflow.keras.preprocessing.image import img_to_array\n",
    "from tensorflow.keras.models import load_model\n",
    "import numpy as np\n",
    "import cv2\n",
    "import os"
   ]
  },
  {
   "cell_type": "code",
   "execution_count": 2,
   "metadata": {},
   "outputs": [],
   "source": [
    "prototxtPath=os.path.sep.join([r'D:\\Mask-Detection-and-Recognition-using-Deep-Learning-Keras-master\\face_detector','deploy.prototxt'])\n",
    "weightsPath=os.path.sep.join([r'D:\\Mask-Detection-and-Recognition-using-Deep-Learning-Keras-master\\face_detector','res10_300x300_ssd_iter_140000.caffemodel'])\n"
   ]
  },
  {
   "cell_type": "code",
   "execution_count": 3,
   "metadata": {},
   "outputs": [
    {
     "data": {
      "text/plain": [
       "'D:\\\\Mask-Detection-and-Recognition-using-Deep-Learning-Keras-master\\\\face_detector\\\\deploy.prototxt'"
      ]
     },
     "execution_count": 3,
     "metadata": {},
     "output_type": "execute_result"
    }
   ],
   "source": [
    "prototxtPath"
   ]
  },
  {
   "cell_type": "code",
   "execution_count": 4,
   "metadata": {},
   "outputs": [
    {
     "data": {
      "text/plain": [
       "'D:\\\\Mask-Detection-and-Recognition-using-Deep-Learning-Keras-master\\\\face_detector\\\\res10_300x300_ssd_iter_140000.caffemodel'"
      ]
     },
     "execution_count": 4,
     "metadata": {},
     "output_type": "execute_result"
    }
   ],
   "source": [
    "weightsPath"
   ]
  },
  {
   "cell_type": "code",
   "execution_count": 5,
   "metadata": {},
   "outputs": [],
   "source": [
    "net = cv2.dnn.readNet(prototxtPath,weightsPath)"
   ]
  },
  {
   "cell_type": "code",
   "execution_count": null,
   "metadata": {},
   "outputs": [],
   "source": []
  },
  {
   "cell_type": "code",
   "execution_count": 6,
   "metadata": {},
   "outputs": [],
   "source": [
    "model=load_model(r'D:\\Mask-Detection-and-Recognition-using-Deep-Learning-Keras-master\\v.model')"
   ]
  },
  {
   "cell_type": "code",
   "execution_count": 7,
   "metadata": {},
   "outputs": [],
   "source": [
    "image=cv2.imread(r'D:\\Mask-Detection-and-Recognition-using-Deep-Learning-Keras-master\\vishalll.jpg')"
   ]
  },
  {
   "cell_type": "code",
   "execution_count": 8,
   "metadata": {},
   "outputs": [
    {
     "data": {
      "text/plain": [
       "array([[[227, 210, 224],\n",
       "        [226, 209, 223],\n",
       "        [227, 210, 224],\n",
       "        ...,\n",
       "        [140, 224, 165],\n",
       "        [141, 225, 166],\n",
       "        [141, 224, 162]],\n",
       "\n",
       "       [[227, 210, 224],\n",
       "        [227, 210, 224],\n",
       "        [229, 212, 226],\n",
       "        ...,\n",
       "        [135, 219, 160],\n",
       "        [134, 218, 159],\n",
       "        [133, 216, 154]],\n",
       "\n",
       "       [[228, 211, 225],\n",
       "        [228, 211, 225],\n",
       "        [231, 214, 228],\n",
       "        ...,\n",
       "        [134, 218, 159],\n",
       "        [132, 216, 157],\n",
       "        [131, 216, 154]],\n",
       "\n",
       "       ...,\n",
       "\n",
       "       [[ 70, 105, 155],\n",
       "        [ 73, 108, 158],\n",
       "        [ 75, 113, 161],\n",
       "        ...,\n",
       "        [181, 211, 228],\n",
       "        [186, 216, 233],\n",
       "        [190, 220, 237]],\n",
       "\n",
       "       [[ 58,  93, 143],\n",
       "        [ 61,  96, 146],\n",
       "        [ 63, 100, 150],\n",
       "        ...,\n",
       "        [182, 213, 228],\n",
       "        [190, 221, 236],\n",
       "        [196, 226, 243]],\n",
       "\n",
       "       [[ 53,  88, 138],\n",
       "        [ 53,  88, 138],\n",
       "        [ 52,  89, 139],\n",
       "        ...,\n",
       "        [169, 200, 215],\n",
       "        [180, 211, 226],\n",
       "        [189, 219, 236]]], dtype=uint8)"
      ]
     },
     "execution_count": 8,
     "metadata": {},
     "output_type": "execute_result"
    }
   ],
   "source": [
    "image"
   ]
  },
  {
   "cell_type": "code",
   "execution_count": 9,
   "metadata": {},
   "outputs": [],
   "source": [
    "(h,w)=image.shape[:2]"
   ]
  },
  {
   "cell_type": "code",
   "execution_count": 10,
   "metadata": {},
   "outputs": [
    {
     "data": {
      "text/plain": [
       "(1872, 1405)"
      ]
     },
     "execution_count": 10,
     "metadata": {},
     "output_type": "execute_result"
    }
   ],
   "source": [
    "(h,w)"
   ]
  },
  {
   "cell_type": "code",
   "execution_count": 11,
   "metadata": {},
   "outputs": [],
   "source": [
    "blob=cv2.dnn.blobFromImage(image,1.0,(300,300),(104.0,177.0,123.0))"
   ]
  },
  {
   "cell_type": "code",
   "execution_count": 12,
   "metadata": {},
   "outputs": [
    {
     "data": {
      "text/plain": [
       "array([[[[128., 128., 131., ...,  31.,  31.,  30.],\n",
       "         [125., 126., 127., ...,  24.,  42.,  31.],\n",
       "         [131., 130., 126., ...,  31.,  38.,  26.],\n",
       "         ...,\n",
       "         [ 20.,  21.,   6., ...,  93.,  95.,  95.],\n",
       "         [ 17.,  31.,  19., ...,  87.,  84.,  84.],\n",
       "         [-29., -17.,  16., ...,  82.,  78.,  78.]],\n",
       "\n",
       "        [[ 38.,  38.,  41., ...,  47.,  43.,  41.],\n",
       "         [ 35.,  36.,  37., ...,  35.,  53.,  46.],\n",
       "         [ 41.,  40.,  37., ...,  42.,  49.,  40.],\n",
       "         ...,\n",
       "         [-13.,  -9., -23., ...,  46.,  47.,  48.],\n",
       "         [-17.,   0., -10., ...,  40.,  37.,  37.],\n",
       "         [-64., -48., -12., ...,  40.,  36.,  34.]],\n",
       "\n",
       "        [[106., 106., 108., ...,  45.,  39.,  36.],\n",
       "         [103., 104., 105., ...,  31.,  49.,  40.],\n",
       "         [109., 108., 105., ...,  37.,  44.,  37.],\n",
       "         ...,\n",
       "         [ 83.,  89.,  78., ..., 112., 116., 116.],\n",
       "         [ 82.,  99.,  88., ..., 110., 107., 108.],\n",
       "         [ 38.,  51.,  85., ..., 109., 105., 105.]]]], dtype=float32)"
      ]
     },
     "execution_count": 12,
     "metadata": {},
     "output_type": "execute_result"
    }
   ],
   "source": [
    "blob"
   ]
  },
  {
   "cell_type": "code",
   "execution_count": 13,
   "metadata": {},
   "outputs": [
    {
     "data": {
      "text/plain": [
       "(1, 3, 300, 300)"
      ]
     },
     "execution_count": 13,
     "metadata": {},
     "output_type": "execute_result"
    }
   ],
   "source": [
    "blob.shape"
   ]
  },
  {
   "cell_type": "code",
   "execution_count": 14,
   "metadata": {},
   "outputs": [],
   "source": [
    "net.setInput(blob)\n",
    "detections=net.forward()"
   ]
  },
  {
   "cell_type": "code",
   "execution_count": 15,
   "metadata": {},
   "outputs": [
    {
     "data": {
      "text/plain": [
       "array([[[[0.        , 1.        , 0.99999964, ..., 0.13151532,\n",
       "          0.6364422 , 0.4034794 ],\n",
       "         [0.        , 1.        , 0.12952551, ..., 3.9960387 ,\n",
       "          4.8366756 , 4.981924  ],\n",
       "         [0.        , 1.        , 0.12041694, ..., 4.006214  ,\n",
       "          0.8332665 , 4.9882526 ],\n",
       "         ...,\n",
       "         [0.        , 0.        , 0.        , ..., 0.        ,\n",
       "          0.        , 0.        ],\n",
       "         [0.        , 0.        , 0.        , ..., 0.        ,\n",
       "          0.        , 0.        ],\n",
       "         [0.        , 0.        , 0.        , ..., 0.        ,\n",
       "          0.        , 0.        ]]]], dtype=float32)"
      ]
     },
     "execution_count": 15,
     "metadata": {},
     "output_type": "execute_result"
    }
   ],
   "source": [
    "detections"
   ]
  },
  {
   "cell_type": "code",
   "execution_count": null,
   "metadata": {},
   "outputs": [],
   "source": []
  },
  {
   "cell_type": "code",
   "execution_count": null,
   "metadata": {},
   "outputs": [],
   "source": []
  },
  {
   "cell_type": "code",
   "execution_count": null,
   "metadata": {},
   "outputs": [],
   "source": []
  },
  {
   "cell_type": "code",
   "execution_count": null,
   "metadata": {},
   "outputs": [],
   "source": []
  },
  {
   "cell_type": "code",
   "execution_count": null,
   "metadata": {},
   "outputs": [],
   "source": []
  },
  {
   "cell_type": "code",
   "execution_count": 16,
   "metadata": {},
   "outputs": [],
   "source": [
    "#loop over the detections\n",
    "for i in range(0,detections.shape[2]):\n",
    "    confidence=detections[0,0,i,2]\n",
    "    \n",
    "    \n",
    "    if confidence>0.5:\n",
    "        #we need the X,Y coordinates\n",
    "        box=detections[0,0,i,3:7]*np.array([w,h,w,h])\n",
    "        (startX,startY,endX,endY)=box.astype('int')\n",
    "        \n",
    "        #ensure the bounding boxes fall within the dimensions of the frame\n",
    "        (startX,startY)=(max(0,startX),max(0,startY))\n",
    "        (endX,endY)=(min(w-1,endX), min(h-1,endY))\n",
    "        \n",
    "        \n",
    "        #extract the face ROI, convert it from BGR to RGB channel, resize it to 224,224 and preprocess it\n",
    "        face=image[startY:endY, startX:endX]\n",
    "        face=cv2.cvtColor(face,cv2.COLOR_BGR2RGB)\n",
    "        face=cv2.resize(face,(224,224))\n",
    "        face=img_to_array(face)\n",
    "        face=preprocess_input(face)\n",
    "        face=np.expand_dims(face,axis=0)\n",
    "        \n",
    "        (mask,withoutMask)=model.predict(face)[0]\n",
    "        \n",
    "        #determine the class label and color we will use to draw the bounding box and text\n",
    "        label='Mask' if mask>withoutMask else 'No Mask'\n",
    "        color=(0,255,0) if label=='Mask' else (0,0,255)\n",
    "        \n",
    "        #include the probability in the label\n",
    "        #label=\"{}: {:.2f}%\".format(label,max(mask,withoutMask)*100)\n",
    "        \n",
    "        #display the label and bounding boxes\n",
    "        cv2.putText(image,label,(startX,startY-10),cv2.FONT_HERSHEY_SIMPLEX,0.45,color,2)\n",
    "        cv2.rectangle(image,(startX,startY),(endX,endY),color,2)\n",
    "        \n",
    "        \n",
    "        \n",
    "cv2.imshow(\"OutPut\",image)\n",
    "cv2.waitKey(0)\n",
    "cv2.destroyAllWindows()"
   ]
  },
  {
   "cell_type": "code",
   "execution_count": null,
   "metadata": {},
   "outputs": [],
   "source": []
  },
  {
   "cell_type": "code",
   "execution_count": null,
   "metadata": {},
   "outputs": [],
   "source": []
  }
 ],
 "metadata": {
  "kernelspec": {
   "display_name": "Python 3",
   "language": "python",
   "name": "python3"
  },
  "language_info": {
   "codemirror_mode": {
    "name": "ipython",
    "version": 3
   },
   "file_extension": ".py",
   "mimetype": "text/x-python",
   "name": "python",
   "nbconvert_exporter": "python",
   "pygments_lexer": "ipython3",
   "version": "3.8.8"
  }
 },
 "nbformat": 4,
 "nbformat_minor": 2
}
